{
  "nbformat": 4,
  "nbformat_minor": 0,
  "metadata": {
    "colab": {
      "provenance": [],
      "gpuType": "T4",
      "authorship_tag": "ABX9TyPTELWSYVJgXtunREMTYiia",
      "include_colab_link": true
    },
    "kernelspec": {
      "name": "python3",
      "display_name": "Python 3"
    },
    "language_info": {
      "name": "python"
    },
    "accelerator": "GPU"
  },
  "cells": [
    {
      "cell_type": "markdown",
      "metadata": {
        "id": "view-in-github",
        "colab_type": "text"
      },
      "source": [
        "<a href=\"https://colab.research.google.com/github/ImNotARobot00/learn-git/blob/master/TensorFlow_Basics.ipynb\" target=\"_parent\"><img src=\"https://colab.research.google.com/assets/colab-badge.svg\" alt=\"Open In Colab\"/></a>"
      ]
    },
    {
      "cell_type": "markdown",
      "source": [
        "#Imports"
      ],
      "metadata": {
        "id": "tbot2wNf0QKS"
      }
    },
    {
      "cell_type": "code",
      "execution_count": 4,
      "metadata": {
        "colab": {
          "base_uri": "https://localhost:8080/"
        },
        "id": "qBBjLwMVyRDj",
        "outputId": "9a850702-fd76-4bde-ddd7-7e10b2da9223"
      },
      "outputs": [
        {
          "output_type": "stream",
          "name": "stdout",
          "text": [
            "TensorFlow version: 2.14.0\n"
          ]
        }
      ],
      "source": [
        "import tensorflow as tf\n",
        "print(\"TensorFlow version:\", tf.__version__)"
      ]
    },
    {
      "cell_type": "markdown",
      "source": [
        "#Load the dataset\n"
      ],
      "metadata": {
        "id": "gwenGBKh0dPJ"
      }
    },
    {
      "cell_type": "code",
      "source": [
        "mnist = tf.keras.datasets.mnist\n",
        "(x_train, y_train), (x_test, y_test) = mnist.load_data()\n",
        "x_train, x_test = x_train / 255.0, x_test / 255.0"
      ],
      "metadata": {
        "colab": {
          "base_uri": "https://localhost:8080/"
        },
        "id": "6964xB4s0iGV",
        "outputId": "b7aeeeae-ddad-46d3-891d-fd3604f573d4"
      },
      "execution_count": 5,
      "outputs": [
        {
          "output_type": "stream",
          "name": "stdout",
          "text": [
            "Downloading data from https://storage.googleapis.com/tensorflow/tf-keras-datasets/mnist.npz\n",
            "11490434/11490434 [==============================] - 0s 0us/step\n"
          ]
        }
      ]
    },
    {
      "cell_type": "markdown",
      "source": [
        "#Build the model"
      ],
      "metadata": {
        "id": "Lfuqqz2m1DC2"
      }
    },
    {
      "cell_type": "code",
      "source": [
        "model = tf.keras.models.Sequential([\n",
        "    tf.keras.layers.Flatten(input_shape=(28,28)),\n",
        "    tf.keras.layers.Dense(128, activation='relu'),\n",
        "    tf.keras.layers.Dropout(0,2),\n",
        "    tf.keras.layers.Dense(10),\n",
        "])"
      ],
      "metadata": {
        "id": "4H6QWqG11Gou"
      },
      "execution_count": 8,
      "outputs": []
    },
    {
      "cell_type": "markdown",
      "source": [
        "#this returns a vector of log-odds"
      ],
      "metadata": {
        "id": "96klcXgl2M_M"
      }
    },
    {
      "cell_type": "code",
      "source": [
        "predictions = model(x_train[:1]).numpy()\n",
        "predictions"
      ],
      "metadata": {
        "colab": {
          "base_uri": "https://localhost:8080/"
        },
        "id": "lkSAPSck1vOB",
        "outputId": "adcab386-77dd-4b0e-def6-6ff25100baa2"
      },
      "execution_count": 9,
      "outputs": [
        {
          "output_type": "execute_result",
          "data": {
            "text/plain": [
              "array([[-0.02708659, -1.0434222 , -0.5582782 ,  0.45524076, -0.94367146,\n",
              "         0.39931476, -0.45653337,  0.19059592,  0.20365587, -0.5384668 ]],\n",
              "      dtype=float32)"
            ]
          },
          "metadata": {},
          "execution_count": 9
        }
      ]
    },
    {
      "cell_type": "markdown",
      "source": [
        "#Returns the probabilities"
      ],
      "metadata": {
        "id": "y6-LF8132fEL"
      }
    },
    {
      "cell_type": "code",
      "source": [
        "tf.nn.softmax(predictions).numpy()"
      ],
      "metadata": {
        "colab": {
          "base_uri": "https://localhost:8080/"
        },
        "id": "Paz_TC9318ZD",
        "outputId": "a305e552-d683-4db3-e5d8-d66ce42ef321"
      },
      "execution_count": 11,
      "outputs": [
        {
          "output_type": "execute_result",
          "data": {
            "text/plain": [
              "array([[0.10805503, 0.03910714, 0.06352598, 0.17503186, 0.0432093 ,\n",
              "        0.16551171, 0.07032967, 0.13433318, 0.13609907, 0.06479707]],\n",
              "      dtype=float32)"
            ]
          },
          "metadata": {},
          "execution_count": 11
        }
      ]
    },
    {
      "cell_type": "markdown",
      "source": [
        "#defines the loss dunction"
      ],
      "metadata": {
        "id": "_NyN98ZI2mk9"
      }
    },
    {
      "cell_type": "code",
      "source": [
        "loss_fn = tf.keras.losses.SparseCategoricalCrossentropy(from_logits=True)"
      ],
      "metadata": {
        "id": "hTIm-fDK2qGN"
      },
      "execution_count": 12,
      "outputs": []
    },
    {
      "cell_type": "markdown",
      "source": [
        "Returns the scalar loss"
      ],
      "metadata": {
        "id": "h0r66s4S22yT"
      }
    },
    {
      "cell_type": "code",
      "source": [
        "loss_fn(y_train[:1], predictions).numpy()"
      ],
      "metadata": {
        "colab": {
          "base_uri": "https://localhost:8080/"
        },
        "id": "jBCTL8Aq25oL",
        "outputId": "da1f5cf9-66ad-4e03-d197-004aed1deea3"
      },
      "execution_count": 13,
      "outputs": [
        {
          "output_type": "execute_result",
          "data": {
            "text/plain": [
              "1.7987132"
            ]
          },
          "metadata": {},
          "execution_count": 13
        }
      ]
    },
    {
      "cell_type": "markdown",
      "source": [
        "Configure and compile the model"
      ],
      "metadata": {
        "id": "Xa9hYTJZ3Gmu"
      }
    },
    {
      "cell_type": "code",
      "source": [
        "model.compile(optimizer='adam',\n",
        "              loss=loss_fn,\n",
        "              metrics=['accuracy'])"
      ],
      "metadata": {
        "id": "eSx8D5fh3Lgr"
      },
      "execution_count": 14,
      "outputs": []
    },
    {
      "cell_type": "markdown",
      "source": [
        "Train and evaluate the model"
      ],
      "metadata": {
        "id": "MlVSDriJ3YeW"
      }
    },
    {
      "cell_type": "code",
      "source": [
        "model.fit(x_train, y_train, epochs=5) #adjust the parameters of the model"
      ],
      "metadata": {
        "colab": {
          "base_uri": "https://localhost:8080/"
        },
        "id": "pBkVDYIt3ciV",
        "outputId": "e8a09386-94fa-4396-ab8c-6811f84753dd"
      },
      "execution_count": 16,
      "outputs": [
        {
          "output_type": "stream",
          "name": "stdout",
          "text": [
            "Epoch 1/5\n",
            "1875/1875 [==============================] - 5s 3ms/step - loss: 0.0347 - accuracy: 0.9895\n",
            "Epoch 2/5\n",
            "1875/1875 [==============================] - 6s 3ms/step - loss: 0.0267 - accuracy: 0.9917\n",
            "Epoch 3/5\n",
            "1875/1875 [==============================] - 5s 3ms/step - loss: 0.0234 - accuracy: 0.9924\n",
            "Epoch 4/5\n",
            "1875/1875 [==============================] - 6s 3ms/step - loss: 0.0175 - accuracy: 0.9945\n",
            "Epoch 5/5\n",
            "1875/1875 [==============================] - 5s 3ms/step - loss: 0.0159 - accuracy: 0.9948\n"
          ]
        },
        {
          "output_type": "execute_result",
          "data": {
            "text/plain": [
              "<keras.src.callbacks.History at 0x7fc76829cb80>"
            ]
          },
          "metadata": {},
          "execution_count": 16
        }
      ]
    },
    {
      "cell_type": "code",
      "source": [
        "model.evaluate(x_test, y_test, verbose=2) #checks model performance"
      ],
      "metadata": {
        "colab": {
          "base_uri": "https://localhost:8080/"
        },
        "id": "0RrS9pUV5Nvx",
        "outputId": "af1e13b3-fc20-4726-a3f2-1366d8f7bc44"
      },
      "execution_count": 17,
      "outputs": [
        {
          "output_type": "stream",
          "name": "stdout",
          "text": [
            "313/313 - 1s - loss: 0.0849 - accuracy: 0.9785 - 725ms/epoch - 2ms/step\n"
          ]
        },
        {
          "output_type": "execute_result",
          "data": {
            "text/plain": [
              "[0.08494400978088379, 0.9785000085830688]"
            ]
          },
          "metadata": {},
          "execution_count": 17
        }
      ]
    },
    {
      "cell_type": "code",
      "source": [
        "probability_model = tf.keras.Sequential([\n",
        "    model,\n",
        "    tf.keras.layers.Softmax()\n",
        "])                                     #returns a probability for the model"
      ],
      "metadata": {
        "id": "5UelR05w6VRK"
      },
      "execution_count": 19,
      "outputs": []
    },
    {
      "cell_type": "code",
      "source": [
        "probability_model(x_test[:5])"
      ],
      "metadata": {
        "colab": {
          "base_uri": "https://localhost:8080/"
        },
        "id": "YqXXx7pc7ed3",
        "outputId": "74deb950-142b-4ffd-fac7-1dc838c50490"
      },
      "execution_count": 20,
      "outputs": [
        {
          "output_type": "execute_result",
          "data": {
            "text/plain": [
              "<tf.Tensor: shape=(5, 10), dtype=float32, numpy=\n",
              "array([[3.4745501e-10, 1.2645936e-11, 4.8407795e-08, 9.3274130e-06,\n",
              "        4.7688524e-14, 6.6181821e-10, 4.4980864e-16, 9.9999046e-01,\n",
              "        7.1189628e-09, 7.4550655e-08],\n",
              "       [3.5799766e-10, 5.9491308e-06, 9.9999356e-01, 3.4278937e-08,\n",
              "        9.9964982e-17, 3.8655114e-11, 1.1111714e-11, 1.1702558e-18,\n",
              "        4.3587346e-07, 4.9669305e-18],\n",
              "       [6.8575634e-10, 9.9994218e-01, 6.2404124e-06, 3.0080508e-07,\n",
              "        5.2661039e-07, 5.1819370e-08, 1.1976765e-07, 2.9495492e-05,\n",
              "        2.1141142e-05, 8.9317420e-10],\n",
              "       [9.9997699e-01, 1.8549435e-09, 6.3324346e-06, 3.4054032e-10,\n",
              "        6.7944645e-09, 1.3350976e-09, 1.5890388e-05, 7.7456519e-07,\n",
              "        2.7819138e-09, 8.2329372e-11],\n",
              "       [5.7569022e-10, 4.1982451e-10, 6.9280266e-09, 1.0351554e-12,\n",
              "        9.9977905e-01, 2.5851059e-11, 3.8239027e-06, 1.7901216e-07,\n",
              "        1.5411096e-08, 2.1691348e-04]], dtype=float32)>"
            ]
          },
          "metadata": {},
          "execution_count": 20
        }
      ]
    }
  ]
}